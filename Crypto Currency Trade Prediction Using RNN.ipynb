{
 "cells": [
  {
   "cell_type": "code",
   "execution_count": 11,
   "metadata": {
    "_uuid": "d401118e775373537d570fb2ff46d6a45383aa7d"
   },
   "outputs": [],
   "source": [
    "import pandas as pd\n",
    "import numpy as np\n",
    "import time\n",
    "import random\n",
    "import tensorflow as tf\n",
    "from collections import deque\n",
    "from sklearn import preprocessing\n",
    "from tensorflow.keras.models import Sequential\n",
    "from tensorflow.keras.layers import Dense, Dropout, LSTM, CuDNNLSTM, BatchNormalization\n",
    "from tensorflow.keras.callbacks import TensorBoard\n",
    "from tensorflow.keras.callbacks import ModelCheckpoint, ModelCheckpoint"
   ]
  },
  {
   "cell_type": "code",
   "execution_count": 12,
   "metadata": {
    "_uuid": "fd26acc73cc00228a118ffbd2ee44fd4c81f939f",
    "collapsed": true
   },
   "outputs": [],
   "source": [
    "SEQ_LEN = 60\n",
    "FUTURE_PERIOD_PREDICT = 3\n",
    "RATIO_TO_PREDICT = \"LTC-USD\"\n",
    "EPOCHS = 10  \n",
    "BATCH_SIZE = 64  \n",
    "NAME = f\"{SEQ_LEN}-SEQ-{FUTURE_PERIOD_PREDICT}-PRED-{int(time.time())}\""
   ]
  },
  {
   "cell_type": "code",
   "execution_count": 13,
   "metadata": {
    "_uuid": "e12c7bfa2373202d93de06fcd7c6a94b50cbf273",
    "collapsed": true
   },
   "outputs": [],
   "source": [
    "def classify(current, future):\n",
    "    if float(future) > float(current):\n",
    "        return 1\n",
    "    else: \n",
    "        return 0"
   ]
  },
  {
   "cell_type": "code",
   "execution_count": 14,
   "metadata": {
    "_uuid": "27b485464309eb9fb53410e083ea44ee447f1063",
    "collapsed": true
   },
   "outputs": [],
   "source": [
    "def preprocess_df(df):\n",
    "\n",
    "    df = df.drop(\"future\", 1)  \n",
    "\n",
    "    for col in df.columns:  \n",
    "        if col != \"target\": \n",
    "            df[col] = df[col].pct_change()\n",
    "            df.dropna(inplace=True)\n",
    "            df[col] = preprocessing.scale(df[col].values)  \n",
    "\n",
    "    df.dropna(inplace=True)\n",
    "\n",
    "\n",
    "    sequential_data = []  \n",
    "    prev_days = deque(maxlen=SEQ_LEN)\n",
    "\n",
    "    for i in df.values:\n",
    "        prev_days.append([n for n in i[:-1]])\n",
    "        if len(prev_days) == SEQ_LEN:  \n",
    "            sequential_data.append([np.array(prev_days), i[-1]])  \n",
    "\n",
    "    random.shuffle(sequential_data)  \n",
    "\n",
    "    buys = []  \n",
    "    sells = [] \n",
    "\n",
    "    for seq, target in sequential_data: \n",
    "        if target == 0:  \n",
    "            sells.append([seq, target])  \n",
    "        elif target == 1:  \n",
    "            buys.append([seq, target]) \n",
    "\n",
    "    random.shuffle(buys)\n",
    "    random.shuffle(sells) \n",
    "\n",
    "    lower = min(len(buys), len(sells)) \n",
    "\n",
    "    buys = buys[:lower]  \n",
    "    sells = sells[:lower]\n",
    "\n",
    "    sequential_data = buys+sells   \n",
    "    random.shuffle(sequential_data)\n",
    "\n",
    "    X = []\n",
    "    y = []\n",
    "\n",
    "    for seq, target in sequential_data:\n",
    "        X.append(seq) \n",
    "        y.append(target) \n",
    "\n",
    "    return np.array(X), y "
   ]
  },
  {
   "cell_type": "code",
   "execution_count": 15,
   "metadata": {
    "_uuid": "938246d11862af2bda1cdbb3a73443f22cc9e0f8",
    "collapsed": true
   },
   "outputs": [],
   "source": [
    "main_df = pd.DataFrame()\n",
    "\n",
    "dataset = 'C:\\\\Users\\\\Deepak\\\\Downloads\\\\BTC-USD.csv'  \n",
    "df = pd.read_csv(dataset, names=['time', 'low', 'high', 'open', 'close', 'volume'])  \n",
    "\n",
    "\n",
    "df.rename(columns={\"close\": f\"BTC-USD_close\", \"volume\": f\"BTC-USD_volume\"}, inplace=True)\n",
    "\n",
    "df.set_index(\"time\", inplace=True) \n",
    "df = df[[f\"BTC-USD_close\", f\"BTC-USD_volume\"]] \n",
    "\n",
    "if len(main_df)==0: \n",
    "    main_df = df  \n",
    "else: \n",
    "    main_df = main_df.join(df)\n",
    "\n",
    "main_df.fillna(method=\"ffill\", inplace=True)  \n",
    "main_df.dropna(inplace=True)"
   ]
  },
  {
   "cell_type": "code",
   "execution_count": 16,
   "metadata": {},
   "outputs": [
    {
     "data": {
      "text/html": [
       "<div>\n",
       "<style scoped>\n",
       "    .dataframe tbody tr th:only-of-type {\n",
       "        vertical-align: middle;\n",
       "    }\n",
       "\n",
       "    .dataframe tbody tr th {\n",
       "        vertical-align: top;\n",
       "    }\n",
       "\n",
       "    .dataframe thead th {\n",
       "        text-align: right;\n",
       "    }\n",
       "</style>\n",
       "<table border=\"1\" class=\"dataframe\">\n",
       "  <thead>\n",
       "    <tr style=\"text-align: right;\">\n",
       "      <th></th>\n",
       "      <th>BTC-USD_close</th>\n",
       "      <th>BTC-USD_volume</th>\n",
       "    </tr>\n",
       "    <tr>\n",
       "      <th>time</th>\n",
       "      <th></th>\n",
       "      <th></th>\n",
       "    </tr>\n",
       "  </thead>\n",
       "  <tbody>\n",
       "    <tr>\n",
       "      <th>1535214660</th>\n",
       "      <td>6707.799805</td>\n",
       "      <td>1.780853</td>\n",
       "    </tr>\n",
       "    <tr>\n",
       "      <th>1535214720</th>\n",
       "      <td>6708.100098</td>\n",
       "      <td>1.401337</td>\n",
       "    </tr>\n",
       "    <tr>\n",
       "      <th>1535214780</th>\n",
       "      <td>6708.379883</td>\n",
       "      <td>0.975295</td>\n",
       "    </tr>\n",
       "    <tr>\n",
       "      <th>1535214840</th>\n",
       "      <td>6710.089844</td>\n",
       "      <td>1.293573</td>\n",
       "    </tr>\n",
       "    <tr>\n",
       "      <th>1535214900</th>\n",
       "      <td>6712.990234</td>\n",
       "      <td>2.330975</td>\n",
       "    </tr>\n",
       "    <tr>\n",
       "      <th>1535214960</th>\n",
       "      <td>6713.140137</td>\n",
       "      <td>0.769891</td>\n",
       "    </tr>\n",
       "    <tr>\n",
       "      <th>1535215020</th>\n",
       "      <td>6714.520020</td>\n",
       "      <td>1.002652</td>\n",
       "    </tr>\n",
       "    <tr>\n",
       "      <th>1535215080</th>\n",
       "      <td>6714.520020</td>\n",
       "      <td>1.021925</td>\n",
       "    </tr>\n",
       "    <tr>\n",
       "      <th>1535215140</th>\n",
       "      <td>6715.000000</td>\n",
       "      <td>3.645508</td>\n",
       "    </tr>\n",
       "    <tr>\n",
       "      <th>1535215200</th>\n",
       "      <td>6715.000000</td>\n",
       "      <td>0.513560</td>\n",
       "    </tr>\n",
       "  </tbody>\n",
       "</table>\n",
       "</div>"
      ],
      "text/plain": [
       "            BTC-USD_close  BTC-USD_volume\n",
       "time                                     \n",
       "1535214660    6707.799805        1.780853\n",
       "1535214720    6708.100098        1.401337\n",
       "1535214780    6708.379883        0.975295\n",
       "1535214840    6710.089844        1.293573\n",
       "1535214900    6712.990234        2.330975\n",
       "1535214960    6713.140137        0.769891\n",
       "1535215020    6714.520020        1.002652\n",
       "1535215080    6714.520020        1.021925\n",
       "1535215140    6715.000000        3.645508\n",
       "1535215200    6715.000000        0.513560"
      ]
     },
     "execution_count": 16,
     "metadata": {},
     "output_type": "execute_result"
    }
   ],
   "source": [
    "main_df.tail(10)"
   ]
  },
  {
   "cell_type": "code",
   "execution_count": 17,
   "metadata": {
    "collapsed": true
   },
   "outputs": [],
   "source": [
    "main_df['future'] = main_df[f'BTC-USD_close'].shift(-FUTURE_PERIOD_PREDICT)\n",
    "main_df['target'] = list(map(classify, main_df[f'BTC-USD_close'], main_df['future']))\n",
    "\n",
    "main_df.dropna(inplace=True)"
   ]
  },
  {
   "cell_type": "code",
   "execution_count": 18,
   "metadata": {
    "_uuid": "fdbb7143ab4331afae163235a255ecb6349fe6f7"
   },
   "outputs": [
    {
     "data": {
      "text/html": [
       "<div>\n",
       "<style scoped>\n",
       "    .dataframe tbody tr th:only-of-type {\n",
       "        vertical-align: middle;\n",
       "    }\n",
       "\n",
       "    .dataframe tbody tr th {\n",
       "        vertical-align: top;\n",
       "    }\n",
       "\n",
       "    .dataframe thead th {\n",
       "        text-align: right;\n",
       "    }\n",
       "</style>\n",
       "<table border=\"1\" class=\"dataframe\">\n",
       "  <thead>\n",
       "    <tr style=\"text-align: right;\">\n",
       "      <th></th>\n",
       "      <th>BTC-USD_close</th>\n",
       "      <th>BTC-USD_volume</th>\n",
       "      <th>future</th>\n",
       "      <th>target</th>\n",
       "    </tr>\n",
       "    <tr>\n",
       "      <th>time</th>\n",
       "      <th></th>\n",
       "      <th></th>\n",
       "      <th></th>\n",
       "      <th></th>\n",
       "    </tr>\n",
       "  </thead>\n",
       "  <tbody>\n",
       "    <tr>\n",
       "      <th>1528968660</th>\n",
       "      <td>6489.549805</td>\n",
       "      <td>0.587100</td>\n",
       "      <td>6479.410156</td>\n",
       "      <td>0</td>\n",
       "    </tr>\n",
       "    <tr>\n",
       "      <th>1528968720</th>\n",
       "      <td>6487.379883</td>\n",
       "      <td>7.706374</td>\n",
       "      <td>6479.979980</td>\n",
       "      <td>0</td>\n",
       "    </tr>\n",
       "    <tr>\n",
       "      <th>1528968780</th>\n",
       "      <td>6479.410156</td>\n",
       "      <td>3.088252</td>\n",
       "      <td>6480.000000</td>\n",
       "      <td>1</td>\n",
       "    </tr>\n",
       "    <tr>\n",
       "      <th>1528968840</th>\n",
       "      <td>6479.410156</td>\n",
       "      <td>1.404100</td>\n",
       "      <td>6477.220215</td>\n",
       "      <td>0</td>\n",
       "    </tr>\n",
       "    <tr>\n",
       "      <th>1528968900</th>\n",
       "      <td>6479.979980</td>\n",
       "      <td>0.753000</td>\n",
       "      <td>6480.000000</td>\n",
       "      <td>1</td>\n",
       "    </tr>\n",
       "    <tr>\n",
       "      <th>1528968960</th>\n",
       "      <td>6480.000000</td>\n",
       "      <td>1.490900</td>\n",
       "      <td>6479.990234</td>\n",
       "      <td>0</td>\n",
       "    </tr>\n",
       "    <tr>\n",
       "      <th>1528969020</th>\n",
       "      <td>6477.220215</td>\n",
       "      <td>2.731950</td>\n",
       "      <td>6478.660156</td>\n",
       "      <td>1</td>\n",
       "    </tr>\n",
       "    <tr>\n",
       "      <th>1528969080</th>\n",
       "      <td>6480.000000</td>\n",
       "      <td>2.174240</td>\n",
       "      <td>6478.660156</td>\n",
       "      <td>0</td>\n",
       "    </tr>\n",
       "    <tr>\n",
       "      <th>1528969140</th>\n",
       "      <td>6479.990234</td>\n",
       "      <td>0.903100</td>\n",
       "      <td>6479.339844</td>\n",
       "      <td>0</td>\n",
       "    </tr>\n",
       "    <tr>\n",
       "      <th>1528969200</th>\n",
       "      <td>6478.660156</td>\n",
       "      <td>3.258786</td>\n",
       "      <td>6479.350098</td>\n",
       "      <td>1</td>\n",
       "    </tr>\n",
       "  </tbody>\n",
       "</table>\n",
       "</div>"
      ],
      "text/plain": [
       "            BTC-USD_close  BTC-USD_volume       future  target\n",
       "time                                                          \n",
       "1528968660    6489.549805        0.587100  6479.410156       0\n",
       "1528968720    6487.379883        7.706374  6479.979980       0\n",
       "1528968780    6479.410156        3.088252  6480.000000       1\n",
       "1528968840    6479.410156        1.404100  6477.220215       0\n",
       "1528968900    6479.979980        0.753000  6480.000000       1\n",
       "1528968960    6480.000000        1.490900  6479.990234       0\n",
       "1528969020    6477.220215        2.731950  6478.660156       1\n",
       "1528969080    6480.000000        2.174240  6478.660156       0\n",
       "1528969140    6479.990234        0.903100  6479.339844       0\n",
       "1528969200    6478.660156        3.258786  6479.350098       1"
      ]
     },
     "execution_count": 18,
     "metadata": {},
     "output_type": "execute_result"
    }
   ],
   "source": [
    "main_df.head(10)"
   ]
  },
  {
   "cell_type": "code",
   "execution_count": 19,
   "metadata": {},
   "outputs": [
    {
     "data": {
      "text/html": [
       "<div>\n",
       "<style scoped>\n",
       "    .dataframe tbody tr th:only-of-type {\n",
       "        vertical-align: middle;\n",
       "    }\n",
       "\n",
       "    .dataframe tbody tr th {\n",
       "        vertical-align: top;\n",
       "    }\n",
       "\n",
       "    .dataframe thead th {\n",
       "        text-align: right;\n",
       "    }\n",
       "</style>\n",
       "<table border=\"1\" class=\"dataframe\">\n",
       "  <thead>\n",
       "    <tr style=\"text-align: right;\">\n",
       "      <th></th>\n",
       "      <th>BTC-USD_close</th>\n",
       "      <th>BTC-USD_volume</th>\n",
       "      <th>future</th>\n",
       "      <th>target</th>\n",
       "    </tr>\n",
       "    <tr>\n",
       "      <th>time</th>\n",
       "      <th></th>\n",
       "      <th></th>\n",
       "      <th></th>\n",
       "      <th></th>\n",
       "    </tr>\n",
       "  </thead>\n",
       "  <tbody>\n",
       "    <tr>\n",
       "      <th>1535214480</th>\n",
       "      <td>6707.759766</td>\n",
       "      <td>2.444304</td>\n",
       "      <td>6707.799805</td>\n",
       "      <td>1</td>\n",
       "    </tr>\n",
       "    <tr>\n",
       "      <th>1535214540</th>\n",
       "      <td>6705.740234</td>\n",
       "      <td>3.068317</td>\n",
       "      <td>6708.100098</td>\n",
       "      <td>1</td>\n",
       "    </tr>\n",
       "    <tr>\n",
       "      <th>1535214600</th>\n",
       "      <td>6705.740234</td>\n",
       "      <td>2.210403</td>\n",
       "      <td>6708.379883</td>\n",
       "      <td>1</td>\n",
       "    </tr>\n",
       "    <tr>\n",
       "      <th>1535214660</th>\n",
       "      <td>6707.799805</td>\n",
       "      <td>1.780853</td>\n",
       "      <td>6710.089844</td>\n",
       "      <td>1</td>\n",
       "    </tr>\n",
       "    <tr>\n",
       "      <th>1535214720</th>\n",
       "      <td>6708.100098</td>\n",
       "      <td>1.401337</td>\n",
       "      <td>6712.990234</td>\n",
       "      <td>1</td>\n",
       "    </tr>\n",
       "    <tr>\n",
       "      <th>1535214780</th>\n",
       "      <td>6708.379883</td>\n",
       "      <td>0.975295</td>\n",
       "      <td>6713.140137</td>\n",
       "      <td>1</td>\n",
       "    </tr>\n",
       "    <tr>\n",
       "      <th>1535214840</th>\n",
       "      <td>6710.089844</td>\n",
       "      <td>1.293573</td>\n",
       "      <td>6714.520020</td>\n",
       "      <td>1</td>\n",
       "    </tr>\n",
       "    <tr>\n",
       "      <th>1535214900</th>\n",
       "      <td>6712.990234</td>\n",
       "      <td>2.330975</td>\n",
       "      <td>6714.520020</td>\n",
       "      <td>1</td>\n",
       "    </tr>\n",
       "    <tr>\n",
       "      <th>1535214960</th>\n",
       "      <td>6713.140137</td>\n",
       "      <td>0.769891</td>\n",
       "      <td>6715.000000</td>\n",
       "      <td>1</td>\n",
       "    </tr>\n",
       "    <tr>\n",
       "      <th>1535215020</th>\n",
       "      <td>6714.520020</td>\n",
       "      <td>1.002652</td>\n",
       "      <td>6715.000000</td>\n",
       "      <td>1</td>\n",
       "    </tr>\n",
       "  </tbody>\n",
       "</table>\n",
       "</div>"
      ],
      "text/plain": [
       "            BTC-USD_close  BTC-USD_volume       future  target\n",
       "time                                                          \n",
       "1535214480    6707.759766        2.444304  6707.799805       1\n",
       "1535214540    6705.740234        3.068317  6708.100098       1\n",
       "1535214600    6705.740234        2.210403  6708.379883       1\n",
       "1535214660    6707.799805        1.780853  6710.089844       1\n",
       "1535214720    6708.100098        1.401337  6712.990234       1\n",
       "1535214780    6708.379883        0.975295  6713.140137       1\n",
       "1535214840    6710.089844        1.293573  6714.520020       1\n",
       "1535214900    6712.990234        2.330975  6714.520020       1\n",
       "1535214960    6713.140137        0.769891  6715.000000       1\n",
       "1535215020    6714.520020        1.002652  6715.000000       1"
      ]
     },
     "execution_count": 19,
     "metadata": {},
     "output_type": "execute_result"
    }
   ],
   "source": [
    "main_df.tail(10)"
   ]
  },
  {
   "cell_type": "code",
   "execution_count": 8,
   "metadata": {
    "_uuid": "b5a582e8857f36d4fbceb4a742b7d141b6bd2c0c"
   },
   "outputs": [
    {
     "data": {
      "text/plain": [
       "(97721, 4)"
      ]
     },
     "execution_count": 8,
     "metadata": {},
     "output_type": "execute_result"
    }
   ],
   "source": [
    "main_df.shape"
   ]
  },
  {
   "cell_type": "code",
   "execution_count": 20,
   "metadata": {
    "_uuid": "af9205233074ac9b1f748b7b077813df5222d88f"
   },
   "outputs": [
    {
     "name": "stdout",
     "output_type": "stream",
     "text": [
      "train data: 83162 validation: 4490\n",
      "Dont buys: 41581, buys: 41581\n",
      "VALIDATION Dont buys: 2245, buys: 2245\n"
     ]
    }
   ],
   "source": [
    "times = sorted(main_df.index.values)\n",
    "last_5pct = sorted(main_df.index.values)[-int(0.05*len(times))]\n",
    "\n",
    "validation_main_df = main_df[(main_df.index >= last_5pct)]\n",
    "main_df = main_df[(main_df.index < last_5pct)]\n",
    "\n",
    "train_x, train_y = preprocess_df(main_df)\n",
    "validation_x, validation_y = preprocess_df(validation_main_df)\n",
    "\n",
    "print(f\"train data: {len(train_x)} validation: {len(validation_x)}\")\n",
    "print(f\"Dont buys: {train_y.count(0)}, buys: {train_y.count(1)}\")\n",
    "print(f\"VALIDATION Dont buys: {validation_y.count(0)}, buys: {validation_y.count(1)}\")"
   ]
  },
  {
   "cell_type": "code",
   "execution_count": 21,
   "metadata": {},
   "outputs": [
    {
     "data": {
      "text/plain": [
       "(83162, 60, 2)"
      ]
     },
     "execution_count": 21,
     "metadata": {},
     "output_type": "execute_result"
    }
   ],
   "source": [
    "train_x.shape"
   ]
  },
  {
   "cell_type": "code",
   "execution_count": 23,
   "metadata": {},
   "outputs": [
    {
     "data": {
      "text/plain": [
       "83162"
      ]
     },
     "execution_count": 23,
     "metadata": {},
     "output_type": "execute_result"
    }
   ],
   "source": [
    "len(train_y)"
   ]
  },
  {
   "cell_type": "code",
   "execution_count": 26,
   "metadata": {},
   "outputs": [
    {
     "data": {
      "text/plain": [
       "array([[-1.44440090e-01, -6.04341078e-02],\n",
       "       [-4.65569405e-01,  2.67103743e-02],\n",
       "       [ 1.52601514e-01, -8.68198380e-02],\n",
       "       [-8.04611852e-04, -8.13999305e-02],\n",
       "       [-8.04611852e-04,  4.86606293e-02],\n",
       "       [ 1.20500314e+00,  4.10319938e-01],\n",
       "       [ 1.31833600e+00, -8.71533504e-02],\n",
       "       [ 8.88360706e-01, -8.94675489e-02],\n",
       "       [ 1.21927302e+00, -8.34809093e-02],\n",
       "       [ 2.25936798e-01, -2.88823035e-02],\n",
       "       [-5.10482072e-01, -7.55002816e-02],\n",
       "       [-7.74408206e-01, -6.58628488e-02],\n",
       "       [ 3.06608679e-01, -4.24677849e-02],\n",
       "       [ 1.13676748e+00, -7.15580567e-02],\n",
       "       [ 6.38932674e-01, -3.39260938e-02],\n",
       "       [ 1.45334854e-01, -8.43975611e-02],\n",
       "       [ 1.52741173e-02, -7.98343236e-02],\n",
       "       [ 6.14418237e-01, -5.16882718e-02],\n",
       "       [ 1.38954306e+00,  8.93674546e-02],\n",
       "       [ 2.00841974e+00, -8.65040424e-02],\n",
       "       [ 2.81986757e+00,  2.48399678e-01],\n",
       "       [-2.13444788e+00, -8.80165177e-02],\n",
       "       [-4.05544480e-01, -8.93758368e-02],\n",
       "       [-2.74474850e-01,  2.91111620e-02],\n",
       "       [-2.44609322e-03, -7.36113419e-02],\n",
       "       [-1.66243991e+00, -5.28634527e-02],\n",
       "       [-5.81140747e-01, -7.77379781e-02],\n",
       "       [ 3.98598481e-01, -3.90149620e-02],\n",
       "       [ 2.95827799e-01, -7.03978950e-02],\n",
       "       [ 1.71913542e+00, -6.44313348e-02],\n",
       "       [-1.41637777e-01, -6.96152930e-02],\n",
       "       [-3.94590565e-01, -6.91664269e-02],\n",
       "       [ 4.07921649e-02, -6.84955485e-02],\n",
       "       [ 1.03261635e-01, -4.45297638e-02],\n",
       "       [-5.54785538e-01, -8.39521793e-02],\n",
       "       [-1.13815012e+00, -9.19631106e-04],\n",
       "       [-1.36445035e-02, -8.89873650e-02],\n",
       "       [ 1.91854812e+00,  1.72682235e-01],\n",
       "       [-3.56222962e-01, -7.72092621e-02],\n",
       "       [-1.83298083e-01, -6.53161978e-02],\n",
       "       [ 6.31765200e-01, -6.99521011e-02],\n",
       "       [-8.04611852e-04, -8.14908753e-02],\n",
       "       [-8.56073386e-02, -7.32743471e-02],\n",
       "       [-1.42715679e+00,  1.07228641e-01],\n",
       "       [-4.08735900e-02, -8.23954163e-02],\n",
       "       [-2.68461999e-01, -7.55492879e-02],\n",
       "       [ 3.66329495e-01,  6.57847282e-02],\n",
       "       [ 1.32230190e-01, -8.98923740e-02],\n",
       "       [-6.93133372e-01, -5.79267976e-02],\n",
       "       [-8.04611852e-04, -1.94813600e-02],\n",
       "       [-4.83402718e-01, -8.83665451e-02],\n",
       "       [-8.04611852e-04,  1.11993236e-01],\n",
       "       [ 7.61950799e-04, -8.12517883e-02],\n",
       "       [-8.04611852e-04, -7.20368695e-02],\n",
       "       [-8.04611852e-04, -7.20638992e-02],\n",
       "       [-5.23702509e-01, -7.00980060e-02],\n",
       "       [-1.08248385e+00,  5.12979371e-02],\n",
       "       [ 8.00769845e-01, -8.50942950e-02],\n",
       "       [-1.25975135e-01, -6.85655794e-02],\n",
       "       [-8.04611852e-04, -7.67727673e-02]])"
      ]
     },
     "execution_count": 26,
     "metadata": {},
     "output_type": "execute_result"
    }
   ],
   "source": [
    "train_x[0].reshape(60, 2)"
   ]
  },
  {
   "cell_type": "code",
   "execution_count": 24,
   "metadata": {},
   "outputs": [
    {
     "data": {
      "text/plain": [
       "1.0"
      ]
     },
     "execution_count": 24,
     "metadata": {},
     "output_type": "execute_result"
    }
   ],
   "source": [
    "train_y[0]"
   ]
  },
  {
   "cell_type": "code",
   "execution_count": 9,
   "metadata": {
    "_uuid": "9ea1850a19caf791fd4c6d75e93aff658e025672"
   },
   "outputs": [
    {
     "name": "stdout",
     "output_type": "stream",
     "text": [
      "Train on 83162 samples, validate on 4490 samples\n",
      "Epoch 1/10\n",
      "83162/83162 [==============================] - 90s 1ms/step - loss: 0.7201 - acc: 0.5013 - val_loss: 0.6932 - val_acc: 0.5000\n",
      "Epoch 2/10\n",
      "83162/83162 [==============================] - 84s 1ms/step - loss: 0.6941 - acc: 0.5018 - val_loss: 0.6930 - val_acc: 0.5000\n",
      "Epoch 3/10\n",
      "83162/83162 [==============================] - 84s 1ms/step - loss: 0.6935 - acc: 0.5019 - val_loss: 0.6933 - val_acc: 0.5000\n",
      "Epoch 4/10\n",
      "83162/83162 [==============================] - 77s 921us/step - loss: 0.6934 - acc: 0.4989 - val_loss: 0.6931 - val_acc: 0.5000\n",
      "Epoch 5/10\n",
      "81088/83162 [============================>.] - ETA: 1s - loss: 0.6933 - acc: 0.5007"
     ]
    }
   ],
   "source": [
    "model = Sequential()\n",
    "\n",
    "model.add(CuDNNLSTM(128, input_shape=(train_x.shape[1:]), return_sequences=True))\n",
    "model.add(Dropout(0.2))\n",
    "model.add(BatchNormalization())\n",
    "\n",
    "model.add(CuDNNLSTM(128, return_sequences=True))\n",
    "model.add(Dropout(0.1))\n",
    "model.add(BatchNormalization())\n",
    "\n",
    "model.add(CuDNNLSTM(128))\n",
    "model.add(Dropout(0.2))\n",
    "model.add(BatchNormalization())\n",
    "\n",
    "model.add(Dense(32, activation='relu'))\n",
    "model.add(Dropout(0.2))\n",
    "\n",
    "model.add(Dense(2, activation='softmax'))\n",
    "\n",
    "opt = tf.keras.optimizers.Adam(lr=0.001, decay=1e-6)\n",
    "\n",
    "model.compile(loss='sparse_categorical_crossentropy', optimizer=opt, metrics=['accuracy'])\n",
    "\n",
    "tensorboard = TensorBoard(log_dir=\"logs/{}\".format(NAME))\n",
    "\n",
    "filepath = \"RNN_Final-{epoch:02d}-{val_acc:.3f}\" \n",
    "checkpoint = ModelCheckpoint(\"{}.model\".format(filepath, monitor='val_acc', verbose=1, save_best_only=True, mode='max')) \n",
    "\n",
    "history = model.fit(train_x, train_y, batch_size=BATCH_SIZE, epochs=EPOCHS, validation_data=(validation_x, validation_y))\n",
    "\n",
    "score = model.evaluate(validation_x, validation_y, verbose=0)\n",
    "\n",
    "print('Test loss:', score[0])\n",
    "print('Test accuracy:', score[1])"
   ]
  },
  {
   "cell_type": "raw",
   "metadata": {},
   "source": [
    "Ref: Sent Dex Youtube"
   ]
  }
 ],
 "metadata": {
  "kernelspec": {
   "display_name": "Python 3",
   "language": "python",
   "name": "python3"
  },
  "language_info": {
   "codemirror_mode": {
    "name": "ipython",
    "version": 3
   },
   "file_extension": ".py",
   "mimetype": "text/x-python",
   "name": "python",
   "nbconvert_exporter": "python",
   "pygments_lexer": "ipython3",
   "version": "3.6.3"
  }
 },
 "nbformat": 4,
 "nbformat_minor": 1
}
